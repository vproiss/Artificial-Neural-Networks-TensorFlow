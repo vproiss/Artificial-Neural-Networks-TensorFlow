{
  "cells": [
    {
      "cell_type": "markdown",
      "metadata": {
        "colab_type": "text",
        "id": "view-in-github"
      },
      "source": [
        "<a href=\"https://colab.research.google.com/github/LDankert/ANNs-Tensorflow/blob/main/Homework4.ipynb\" target=\"_parent\"><img src=\"https://colab.research.google.com/assets/colab-badge.svg\" alt=\"Open In Colab\"/></a>"
      ]
    },
    {
      "cell_type": "code",
      "execution_count": null,
      "metadata": {
        "id": "q44uyHy_AHHr"
      },
      "outputs": [],
      "source": [
        "import numpy as np\n",
        "import matplotlib.pyplot as plt\n",
        "import tensorflow as tf\n",
        "import tensorflow_datasets as tfds\n",
        "import time\n",
        "import pandas as pd\n",
        "import statistics"
      ]
    },
    {
      "cell_type": "markdown",
      "metadata": {
        "id": "g8CPl2Q3ATFF"
      },
      "source": [
        "**Dataset**"
      ]
    },
    {
      "cell_type": "code",
      "execution_count": null,
      "metadata": {
        "id": "pBftj0atKsAn"
      },
      "outputs": [],
      "source": [
        "url = \"https://archive.ics.uci.edu/ml/machine-learning-databases/wine-quality/winequality-red.csv\"\n",
        "data = pd.read_csv(url, sep=\";\")\n",
        "data = pd.DataFrame(data)\n",
        "data"
      ]
    },
    {
      "cell_type": "code",
      "execution_count": null,
      "metadata": {
        "id": "vS6W0gQVqx_3"
      },
      "outputs": [],
      "source": [
        "def make_binary(target):\n",
        "  mean=5.5 #this is not the actual mean, but the midpoint of the quality evaluation\n",
        "  if target > mean:\n",
        "    return 1\n",
        "  else:\n",
        "    return 0"
      ]
    },
    {
      "cell_type": "code",
      "execution_count": null,
      "metadata": {
        "id": "qZAvHLOTAOSQ"
      },
      "outputs": [],
      "source": [
        "validation_dataset=pd.DataFrame.sample(data, frac =0.1) # hier droppen\n",
        "data.drop(validation_dataset.index) #dropping the validation in order to make sure to not reuse it\n",
        "train_dataset = pd.DataFrame.sample(data, frac=0.8)\n",
        "test_dataset = pd.DataFrame.sample(data, frac=0.1)"
      ]
    },
    {
      "cell_type": "code",
      "execution_count": null,
      "metadata": {
        "colab": {
          "base_uri": "https://localhost:8080/"
        },
        "id": "kii8qCBDAbQV",
        "outputId": "f661a65f-d278-426e-d079-a61b688b64b7"
      },
      "outputs": [
        {
          "data": {
            "text/plain": [
              "<PrefetchDataset shapes: ((None, 160, 11), (None, 160)), types: (tf.float32, tf.int64)>"
            ]
          },
          "execution_count": 31,
          "metadata": {},
          "output_type": "execute_result"
        }
      ],
      "source": [
        "#pipeline with make binary and batching\n",
        "\n",
        "def prepare_data(input_data):\n",
        "  quality= input_data.pop(\"quality\") #to use as target\n",
        "\n",
        "  target = quality.map(lambda outcome: make_binary(outcome)) #map the target onto the binary\n",
        "\n",
        "  feature_names = (input_data.columns.values)\n",
        "  # extracted feature values\n",
        "  feature_values = input_data[feature_names]\n",
        "\n",
        "  dataset = tf.data.Dataset.from_tensors((feature_values, target))\n",
        "  dataset = dataset.map(lambda input, target: (tf.cast(input, tf.float32), target)) #shape not correct\n",
        "  #dataset = data_set.map(lambda wine, target: make_binary(tf.float32), target))# here should be the mapping\n",
        "  dataset = dataset.shuffle(buffer_size=500) #shuffle, batch, prefetch\n",
        "  dataset = dataset.batch(16)\n",
        "  dataset = dataset.prefetch(12)\n",
        "  return dataset\n",
        "\n",
        "validation_dataset= prepare_data(validation_dataset)\n",
        "train_dataset= prepare_data(train_dataset)\n",
        "test_dataset = prepare_data(test_dataset)\n",
        "\n",
        "validation_dataset"
      ]
    },
    {
      "cell_type": "markdown",
      "metadata": {
        "id": "V_Pd1GgNAfT5"
      },
      "source": [
        "**Model**"
      ]
    },
    {
      "cell_type": "code",
      "execution_count": null,
      "metadata": {
        "id": "nY2DyqO_AcBJ"
      },
      "outputs": [],
      "source": [
        "class Model(tf.keras.Model):\n",
        "  \n",
        "  def __init__(self):\n",
        "    super().__init__()\n",
        "    self.hidden_layer_1 = tf.keras.layers.Dense(units=128,\n",
        "                                          activation=tf.keras.activations.sigmoid)\n",
        "    self.hidden_layer_2 = tf.keras.layers.Dense(units=128,\n",
        "                                          activation=tf.keras.activations.sigmoid)\n",
        "    self.output_layer = tf.keras.layers.Dense(units=1,\n",
        "                                        activation=tf.keras.activations.sigmoid)\n",
        "    \n",
        "  def call(self, inputs):\n",
        "    x = self.hidden_layer_1(inputs)\n",
        "    x = self.hidden_layer_2(x)\n",
        "    x = self.output_layer(x)\n",
        "    return x"
      ]
    },
    {
      "cell_type": "markdown",
      "metadata": {
        "id": "iZqnHOOWAkz1"
      },
      "source": [
        "**Training**"
      ]
    },
    {
      "cell_type": "code",
      "execution_count": null,
      "metadata": {
        "id": "a-p39BE9Ajpk"
      },
      "outputs": [],
      "source": [
        "#change in loss function and accuracy\n",
        "def train_step(model, input, target, loss_function, optimizer):\n",
        "\n",
        "  with tf.GradientTape() as tape:\n",
        "    prediction = model(input)\n",
        "    train_loss = loss_function(target, prediction) #hier noch ändern\n",
        "    sample_training_accuracy =  np.round(target, 0) == np.round(prediction, 0) #np.round(,0)\n",
        "    sample_training_accuracy = np.mean(sample_training_accuracy)\n",
        "    gradients = tape.gradient(train_loss, model.trainable_variables)\n",
        "  optimizer.apply_gradients(zip(gradients, model.trainable_variables))\n",
        "  \n",
        "  return train_loss , sample_training_accuracy\n",
        "\n",
        "def test(model, test_data, loss_function):\n",
        "  # test over complete test data\n",
        "  test_accuracy_aggregator = []\n",
        "  test_loss_aggregator = []\n",
        "\n",
        "  for (input, target) in test_data:\n",
        "    prediction = model(input)\n",
        "    sample_test_loss = loss_function(target, prediction) #tf.keras.losses.BinaryCrossentropy()\n",
        "    sample_test_accuracy =  np.round(target, 0) == np.round(prediction, 0) #np.round(,0)\n",
        "    sample_test_accuracy = np.mean(sample_test_accuracy)\n",
        "    test_loss_aggregator.append(sample_test_loss.numpy())\n",
        "    test_accuracy_aggregator.append(np.mean(sample_test_accuracy))\n",
        "\n",
        "  test_loss = np.mean(test_loss_aggregator)\n",
        "  test_accuracy = np.mean(test_accuracy_aggregator)\n",
        "\n",
        "  return test_loss, test_accuracy"
      ]
    },
    {
      "cell_type": "code",
      "execution_count": null,
      "metadata": {
        "colab": {
          "base_uri": "https://localhost:8080/"
        },
        "id": "OUf-ajpGAraB",
        "outputId": "f97ddd4b-1e8a-4c9a-976b-74a3832fd54d"
      },
      "outputs": [
        {
          "name": "stdout",
          "output_type": "stream",
          "text": [
            "Epoch: 0 starting with accuracy 0.48125\n",
            "Epoch: 1 starting with accuracy 0.48125\n",
            "Epoch: 2 starting with accuracy 0\n",
            "Epoch: 3 starting with accuracy 0\n",
            "Epoch: 4 starting with accuracy 0\n",
            "Epoch: 5 starting with accuracy 0\n",
            "Epoch: 6 starting with accuracy 0.48125\n",
            "Epoch: 7 starting with accuracy 0\n",
            "Epoch: 8 starting with accuracy 0\n",
            "Epoch: 9 starting with accuracy 0\n",
            "Execution time: 0 minutes and 0 seconds.\n"
          ]
        }
      ],
      "source": [
        "tf.keras.backend.clear_session()\n",
        "# validation is needed\n",
        "# Hyperparameters\n",
        "num_epochs = 10\n",
        "learning_rate = 0.1\n",
        "optimizer = tf.keras.optimizers.SGD(learning_rate=0.1)#momentum\n",
        "optimizer2 = tf.keras.optimizers.Adam() #adam optimizer\n",
        "start = time.time()\n",
        "\n",
        "# Initialize the model.\n",
        "model = Model()\n",
        "# Initialize the loss: categorical cross entropy. \n",
        "cross_entropy_loss = tf.keras.losses.BinaryCrossentropy(from_logits=True)\n",
        "# Initialize the optimizer: SGD with default parameters. \n",
        "#optimizer = tf.keras.optimizers.SGD(learning_rate)\n",
        "#loss_function = tf.keras.losses.BinaryCrossentropy(from_logits=True)\n",
        "# Initialize lists for later visualization.\n",
        "train_losses = []\n",
        "train_accuracies = []\n",
        "\n",
        "test_losses = []\n",
        "test_accuracies = []\n",
        "\n",
        "validation_losses=[]\n",
        "validation_accuracies=[]\n",
        "\n",
        "# Testing once before we begin.\n",
        "test_loss, test_accuracy = test(model, test_dataset, cross_entropy_loss)\n",
        "test_losses.append(test_loss)\n",
        "test_accuracies.append(test_accuracy)\n",
        "\n",
        "# Check how model performs on train data once before we begin.\n",
        "train_loss, train_accuracy = test(model, train_dataset, cross_entropy_loss)\n",
        "train_losses.append(train_loss)\n",
        "train_accuracies.append(train_accuracy)\n",
        "\n",
        "# We train for num_epochs epochs.\n",
        "for epoch in range(num_epochs):\n",
        "    print(f'Epoch: {str(epoch)} starting with accuracy {test_accuracies[-1]}')\n",
        "\n",
        "    # Training (and checking in with training).\n",
        "    epoch_loss_agg = []\n",
        "    epoch_acc_agg = []\n",
        "    for input, target in train_dataset:\n",
        "        train_loss, train_accuracy = train_step(model, input, target, cross_entropy_loss, optimizer)\n",
        "        epoch_loss_agg.append(train_loss)\n",
        "        epoch_acc_agg.append(train_accuracy)\n",
        "    #optimizer.apply_gradients(zip(gradients, model.trainable_variables)) \n",
        "    # Track training loss and accuracy.\n",
        "    train_losses.append(tf.reduce_mean(epoch_loss_agg))\n",
        "    train_accuracies.append(tf.reduce_mean(epoch_acc_agg))\n",
        "\n",
        "    # Testing\n",
        "    if epoch % 5==0: #test only twice\n",
        "      test_loss, test_accuracy = test(model, test_dataset, cross_entropy_loss)\n",
        "      test_losses.append(test_loss)\n",
        "      test_accuracies.append(test_accuracy)\n",
        "    else:\n",
        "      test_losses.append(0)#to make the plot kinda right\n",
        "      test_accuracies.append(0)\n",
        "\n",
        "    #validation\n",
        "    \n",
        "   # validation_accuracy_aggregator = []\n",
        "   # validation_loss_aggregator = []\n",
        "    #for input, target in validation_dataset:\n",
        "     # prediction = model(input)\n",
        "      #sample_validation_loss = cross_entropy_loss(target, prediction) #tf.keras.losses.BinaryCrossentropy()\n",
        "      #sample_validation_accuracy =  np.round(target, 0) == np.round(prediction, 0) #np.round(,0)\n",
        "      #sample_validation_accuracy = np.mean(sample_validation_accuracy)\n",
        "      #validation_loss_aggregator.append(sample_validation_loss.numpy())\n",
        "      #validation_accuracy_aggregator.append(np.mean(sample_validation_accuracy))\n",
        "\n",
        "    #validation_loss = np.mean(validation_loss_aggregator)\n",
        "    #validation_accuracy = np.mean(validation_accuracy_aggregator)\n",
        "\n",
        "end = time.time()\n",
        "execution_time = int((end - start)/60)\n",
        "\n",
        "print(f'Execution time: {execution_time} minutes and {execution_time % 60} seconds.')\n",
        "\n",
        "#tf.keras.losses.BinaryCrossentropy()\n",
        "\n",
        "#validation training set needs to be added \n",
        "#change the input"
      ]
    },
    {
      "cell_type": "code",
      "execution_count": null,
      "metadata": {
        "colab": {
          "base_uri": "https://localhost:8080/",
          "height": 298
        },
        "id": "ojCcgFo4pFVp",
        "outputId": "de1322e4-714f-4ce4-a850-c13d701be7f0"
      },
      "outputs": [
        {
          "data": {
            "image/png": "[encoded data removed]",
            "text/plain": [
              "<Figure size 432x288 with 1 Axes>"
            ]
          },
          "metadata": {
            "needs_background": "light"
          },
          "output_type": "display_data"
        }
      ],
      "source": [
        "plt.figure()\n",
        "line1, = plt.plot(train_losses, color = 'blue')\n",
        "line2, = plt.plot(test_losses, color = 'red')\n",
        "line3, = plt.plot(validation_losses, color = 'yellow')\n",
        "plt.xlabel(\"Training steps (epochs)\", fontsize = 12)\n",
        "plt.ylabel(\"Loss\", fontsize = 12)\n",
        "plt.legend((line1, line2, line3),(\"training\", \"test\", \"validation\"))\n",
        "plt.title('Loss for training and test data')\n",
        "plt.show()"
      ]
    },
    {
      "cell_type": "code",
      "execution_count": null,
      "metadata": {
        "colab": {
          "base_uri": "https://localhost:8080/",
          "height": 298
        },
        "id": "SlXC7sJn-CVH",
        "outputId": "9601bf17-99d7-4999-bd3c-2522de2e7abd"
      },
      "outputs": [
        {
          "data": {
            "image/png": "[encoded data removed]",
            "text/plain": [
              "<Figure size 432x288 with 1 Axes>"
            ]
          },
          "metadata": {
            "needs_background": "light"
          },
          "output_type": "display_data"
        }
      ],
      "source": [
        "plt.figure()\n",
        "line1, = plt.plot(train_accuracies, linestyle = 'dashed', color = 'orange')\n",
        "line2, = plt.plot(test_accuracies, linestyle = 'dashed', color = 'green')\n",
        "line3, = plt.plot(test_accuracies, linestyle = 'dashed', color = 'blue')\n",
        "plt.xlabel(\"Training steps\", fontsize = 12)\n",
        "plt.ylabel(\"Accuracy\", fontsize = 12)\n",
        "plt.legend((line1, line2, line3),(\"training\", \"test\", \"validation\"))\n",
        "plt.title('Accuracy for traing and test data')\n",
        "plt.show()"
      ]
    },
    {
      "cell_type": "markdown",
      "metadata": {
        "id": "g88GOiWs-C0U"
      },
      "source": [
        "Training with a different Optimizer and mini **batch** and early stopping"
      ]
    },
    {
      "cell_type": "code",
      "execution_count": null,
      "metadata": {
        "id": "dv_-1orvvXb-"
      },
      "outputs": [],
      "source": [
        "validation_dataset=pd.DataFrame.sample(data, frac =0.1) # hier droppen\n",
        "data.drop(validation_dataset.index)\n",
        "train_dataset = pd.DataFrame.sample(data, frac=0.8)\n",
        "train_dataset\n",
        "test_dataset = pd.DataFrame.sample(data, frac=0.1)"
      ]
    },
    {
      "cell_type": "code",
      "execution_count": null,
      "metadata": {
        "colab": {
          "base_uri": "https://localhost:8080/"
        },
        "id": "31cUf0-7u4xn",
        "outputId": "93b38f2e-e510-4bb0-a46b-afcace5a16a5"
      },
      "outputs": [
        {
          "data": {
            "text/plain": [
              "<MapDataset shapes: ((160, 11), (160,)), types: (tf.float32, tf.int64)>"
            ]
          },
          "execution_count": 457,
          "metadata": {},
          "output_type": "execute_result"
        }
      ],
      "source": [
        "\n",
        "def prepare_data(input_data):\n",
        "  quality= input_data.pop(\"quality\") #quality to use for target\n",
        "  #target=[]\n",
        "  target = quality.map(lambda outcome: make_binary(outcome)) #mapping the target\n",
        "\n",
        "  feature_names = (input_data.columns.values) #prepare data for tf\n",
        "  # extracted feature values\n",
        "  feature_values = input_data[feature_names]\n",
        "  #input_data['Address'] = target\n",
        "  # creating the tensorflow dataset\n",
        "  dataset = tf.data.Dataset.from_tensors((feature_values, target))\n",
        "  dataset = dataset.map(lambda input, target: (tf.cast(input, tf.float32), target)) #shape not correct\n",
        "  #dataset = data_set.map(lambda wine, target: make_binary(tf.float32), target))# here should be the mapping\n",
        "  # no batching etc\n",
        "  return dataset\n",
        "\n",
        "validation_dataset= prepare_data(validation_dataset)\n",
        "train_dataset= prepare_data(train_dataset)\n",
        "test_dataset = prepare_data(test_dataset)\n",
        "validation_dataset"
      ]
    },
    {
      "cell_type": "code",
      "execution_count": null,
      "metadata": {
        "id": "hM5Hf4Gn-EYm"
      },
      "outputs": [],
      "source": [
        "#change in loss function and accuracy\n",
        "def train_step(model, input, target, loss_function, optimizer):\n",
        "\n",
        "  with tf.GradientTape() as tape:\n",
        "    prediction = model(input)\n",
        "    train_loss = loss_function(target, prediction) #hier noch ändern\n",
        "    sample_training_accuracy =  np.round(target, 0) == np.round(prediction, 0) #np.round(,0)\n",
        "    sample_training_accuracy = np.mean(sample_training_accuracy)\n",
        "    gradients = tape.gradient(train_loss, model.trainable_variables)\n",
        "  optimizer2.apply_gradients(zip(gradients, model.trainable_variables))\n",
        "  \n",
        "  return train_loss , sample_training_accuracy\n",
        "\n",
        "def test(model, test_data, loss_function):\n",
        "  # test over complete test data\n",
        "  test_accuracy_aggregator = []\n",
        "  test_loss_aggregator = []\n",
        "\n",
        "  for (input, target) in test_data:\n",
        "    prediction = model(input)\n",
        "    sample_test_loss = loss_function(target, prediction) #tf.keras.losses.BinaryCrossentropy()\n",
        "    sample_test_accuracy =  np.round(target, 0) == np.round(prediction, 0) #np.round(,0)\n",
        "    sample_test_accuracy = np.mean(sample_test_accuracy)\n",
        "    test_loss_aggregator.append(sample_test_loss.numpy())\n",
        "    test_accuracy_aggregator.append(np.mean(sample_test_accuracy))\n",
        "\n",
        "  test_loss = np.mean(test_loss_aggregator)\n",
        "  test_accuracy = np.mean(test_accuracy_aggregator)\n",
        "\n",
        "  return test_loss, test_accuracy"
      ]
    },
    {
      "cell_type": "code",
      "execution_count": null,
      "metadata": {
        "colab": {
          "base_uri": "https://localhost:8080/"
        },
        "id": "BGF0Oe4esmiN",
        "outputId": "1f3609af-093b-4e66-af89-fbfce891d07c"
      },
      "outputs": [
        {
          "name": "stdout",
          "output_type": "stream",
          "text": [
            "Epoch: 0 starting with accuracy 0.41875\n",
            "Epoch: 1 starting with accuracy 0.41875\n",
            "Execution time: 0 minutes and 0 seconds.\n"
          ]
        }
      ],
      "source": [
        "tf.keras.backend.clear_session()\n",
        "# validation is needed\n",
        "# Hyperparameters\n",
        "num_epochs = 10\n",
        "learning_rate = 0.1\n",
        "optimizer = tf.keras.optimizers.SGD(learning_rate=1)#momentum\n",
        "optimizer2 = tf.keras.optimizers.Adam(learning_rate=0.1) #adam optimizer\n",
        "start = time.time()\n",
        "\n",
        "# Initialize the model.\n",
        "model = Model()\n",
        "# Initialize the loss: categorical cross entropy. \n",
        "cross_entropy_loss = tf.keras.losses.BinaryCrossentropy(from_logits=True)\n",
        "# Initialize the optimizer: SGD with default parameters. \n",
        "optimizer = tf.keras.optimizers.SGD(learning_rate)\n",
        "#loss_function = tf.keras.losses.BinaryCrossentropy(from_logits=True)\n",
        "# Initialize lists for later visualization.\n",
        "train_losses = []\n",
        "train_accuracies = []\n",
        "\n",
        "test_losses = []\n",
        "test_accuracies = []\n",
        "\n",
        "validation_losses=[]\n",
        "validation_accuracies=[]\n",
        "# Testing once before we begin.\n",
        "test_loss, test_accuracy = test(model, test_dataset.take(320).batch(32), cross_entropy_loss)\n",
        "test_losses.append(test_loss)\n",
        "test_accuracies.append(test_accuracy)\n",
        "\n",
        "# Check how model performs on train data once before we begin.\n",
        "train_loss, train_accuracy = test(model, train_dataset.take(320).batch(32), cross_entropy_loss)\n",
        "train_losses.append(train_loss)\n",
        "train_accuracies.append(train_accuracy)\n",
        "\n",
        "# We train for num_epochs epochs.\n",
        "for epoch in range(num_epochs):\n",
        "    print(f'Epoch: {str(epoch)} starting with accuracy {test_accuracies[-1]}')\n",
        "\n",
        "    # Training (and checking in with training).\n",
        "    epoch_loss_agg = []\n",
        "    epoch_acc_agg = []\n",
        "    for input, target in train_dataset:\n",
        "        train_loss_old = train_loss\n",
        "        train_loss, train_accuracy = train_step(model, input, target, cross_entropy_loss, optimizer2)\n",
        "        epoch_loss_agg.append(train_loss)\n",
        "        epoch_acc_agg.append(train_accuracy)\n",
        "    #optimizer.apply_gradients(zip(gradients, model.trainable_variables)) \n",
        "    # Track training loss and accuracy.\n",
        "    train_losses.append(tf.reduce_mean(epoch_loss_agg))\n",
        "    train_accuracies.append(tf.reduce_mean(epoch_acc_agg))\n",
        "\n",
        "    if epoch % 5==0:\n",
        "      test_loss, test_accuracy = test(model, test_dataset, cross_entropy_loss)\n",
        "      test_losses.append(test_loss)\n",
        "      test_accuracies.append(test_accuracy)\n",
        "    else:\n",
        "      test_losses.append(0)#to make the plot kinda right\n",
        "      test_accuracies.append(0)\n",
        "\n",
        "    #validation\n",
        "    validation_accuracy_aggregator = []\n",
        "    validation_loss_aggregator = []\n",
        "    for input, target in validation_dataset:\n",
        "      prediction = model(input)\n",
        "      sample_validation_loss = cross_entropy_loss(target, prediction) #tf.keras.losses.BinaryCrossentropy()\n",
        "      sample_validation_accuracy =  np.round(target, 0) == np.round(prediction, 0) #np.round(,0)\n",
        "      sample_validation_accuracy = np.mean(sample_validation_accuracy)\n",
        "      validation_loss_aggregator.append(sample_validation_loss.numpy())\n",
        "      validation_accuracy_aggregator.append(np.mean(sample_validation_accuracy))\n",
        "    validation_old= validation_loss\n",
        "    validation_loss = np.mean(validation_loss_aggregator)\n",
        "    validation_accuracy = np.mean(validation_accuracy_aggregator)\n",
        "     \n",
        "\n",
        "    if validation_loss > validation_old and train_loss < train_loss_old:\n",
        "      break\n",
        "\n",
        "end = time.time()\n",
        "execution_time = int((end - start)/60)\n",
        "\n",
        "print(f'Execution time: {execution_time} minutes and {execution_time % 60} seconds.')\n",
        "\n",
        "#tf.keras.losses.BinaryCrossentropy()\n",
        "\n",
        "#validation training set needs to be added \n",
        "#change the input"
      ]
    },
    {
      "cell_type": "code",
      "execution_count": null,
      "metadata": {
        "colab": {
          "base_uri": "https://localhost:8080/",
          "height": 298
        },
        "id": "e5a2FVORsni_",
        "outputId": "f8a753bc-1c55-4384-b04b-756860583ff8"
      },
      "outputs": [
        {
          "data": {
            "image/png": "[encoded data removed]",
            "text/plain": [
              "<Figure size 432x288 with 1 Axes>"
            ]
          },
          "metadata": {
            "needs_background": "light"
          },
          "output_type": "display_data"
        }
      ],
      "source": [
        "plt.figure()\n",
        "line1, = plt.plot(train_losses, color = 'blue')\n",
        "line2, = plt.plot(test_losses, color = 'red')\n",
        "line3, = plt.plot(validation_losses, color = 'yellow')\n",
        "plt.xlabel(\"Training steps (epochs)\", fontsize = 12)\n",
        "plt.ylabel(\"Loss\", fontsize = 12)\n",
        "plt.legend((line1, line2, line3),(\"training\", \"test\", \"validation\"))\n",
        "plt.title('Loss for training and test data with Adam and Mini Batch and Early Stopping')\n",
        "plt.show()"
      ]
    },
    {
      "cell_type": "code",
      "execution_count": null,
      "metadata": {
        "colab": {
          "base_uri": "https://localhost:8080/",
          "height": 298
        },
        "id": "ibF4PfMEsuDM",
        "outputId": "4a1ae980-3fe9-4d09-c8fa-134d0f3f76a6"
      },
      "outputs": [
        {
          "data": {
            "image/png": "[encoded data removed]",
            "text/plain": [
              "<Figure size 432x288 with 1 Axes>"
            ]
          },
          "metadata": {
            "needs_background": "light"
          },
          "output_type": "display_data"
        }
      ],
      "source": [
        "plt.figure()\n",
        "line1, = plt.plot(train_accuracies, linestyle = 'dashed', color = 'orange')\n",
        "line2, = plt.plot(test_accuracies, linestyle = 'dashed', color = 'green')\n",
        "line3, = plt.plot(test_accuracies, linestyle = 'dashed', color = 'blue')\n",
        "plt.xlabel(\"Training steps\", fontsize = 12)\n",
        "plt.ylabel(\"Accuracy\", fontsize = 12)\n",
        "plt.legend((line1, line2, line3),(\"training\", \"test\", \"validation\"))\n",
        "plt.title('Accuracy for traing and test data with Adam and Mini Batch and Early Stopping')\n",
        "plt.show()"
      ]
    }
  ],
  "metadata": {
    "colab": {
      "collapsed_sections": [],
      "include_colab_link": true,
      "name": "Homework4.ipynb",
      "provenance": []
    },
    "kernelspec": {
      "display_name": "Python 3",
      "name": "python3"
    },
    "language_info": {
      "name": "python"
    }
  },
  "nbformat": 4,
  "nbformat_minor": 0
}
