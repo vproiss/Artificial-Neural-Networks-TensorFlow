{
 "cells": [
  {
   "cell_type": "markdown",
   "metadata": {
    "colab_type": "text",
    "id": "view-in-github"
   },
   "source": [
    "<a href=\"https://colab.research.google.com/github/LDankert/ANNs-Tensorflow/blob/verasBranch/IANNwTF_Homework_03.ipynb\" target=\"_parent\"><img src=\"https://colab.research.google.com/assets/colab-badge.svg\" alt=\"Open In Colab\"/></a>"
   ]
  },
  {
   "cell_type": "code",
   "execution_count": 181,
   "metadata": {
    "id": "eouhZgDdCdO0"
   },
   "outputs": [],
   "source": [
    "import numpy as np\n",
    "import matplotlib.pyplot as plt\n",
    "import tensorflow as tf\n",
    "import tensorflow_datasets as tfds\n",
    "import time"
   ]
  },
  {
   "cell_type": "markdown",
   "metadata": {
    "id": "8L4Ct-4SDt5J"
   },
   "source": [
    "## **1. Dataset**"
   ]
  },
  {
   "cell_type": "code",
   "execution_count": 182,
   "metadata": {
    "id": "jiAmt5y8D56a"
   },
   "outputs": [],
   "source": [
    "def onehotify(tensor):\n",
    "  vocab = {'A':'1', 'C': '2', 'G':'3', 'T':'0'} \n",
    "  for key in vocab.keys():\n",
    "    tensor = tf.strings.regex_replace(tensor, key, vocab[key]) \n",
    "  split = tf.strings.bytes_split(tensor)\n",
    "  labels = tf.cast(tf.strings.to_number(split), tf.uint8) \n",
    "  onehot = tf.one_hot(labels, 4)\n",
    "  onehot = tf.reshape(onehot, (-1,))\n",
    "  return onehot"
   ]
  },
  {
   "cell_type": "code",
   "execution_count": 183,
   "metadata": {
    "id": "rknxMNUsTGFD"
   },
   "outputs": [],
   "source": [
    "train_dataset = tfds.load('genomics_ood', split='train[:10%]', shuffle_files=True, as_supervised=True)\n",
    "test_dataset = tfds.load('genomics_ood', split='test[:1%]', shuffle_files=True, as_supervised=True)"
   ]
  },
  {
   "cell_type": "code",
   "execution_count": 185,
   "metadata": {
    "id": "Ds9hg3_sNTRU"
   },
   "outputs": [],
   "source": [
    "def prepare_genomics_data(genomics):\n",
    "  genomics = genomics.map(lambda seq, target: (onehotify(seq), tf.one_hot(target, 10)))\n",
    "  genomics = genomics.shuffle(buffer_size=1000)\n",
    "  genomics = genomics.batch(256)\n",
    "  genomics = genomics.prefetch(12)\n",
    "  return genomics\n",
    "\n",
    "train_ds = train_dataset.apply(prepare_genomics_data)\n",
    "test_ds = test_dataset.apply(prepare_genomics_data)"
   ]
  },
  {
   "cell_type": "markdown",
   "metadata": {},
   "source": [
    "## 2. Model"
   ]
  },
  {
   "cell_type": "code",
   "execution_count": 186,
   "metadata": {
    "id": "Y391enX0u2DP"
   },
   "outputs": [],
   "source": [
    "class Model(tf.keras.Model):\n",
    "  \n",
    "  def __init__(self):\n",
    "    super().__init__()\n",
    "    self.hidden_layer_1 = tf.keras.layers.Dense(units=256,\n",
    "                                          activation=tf.keras.activations.sigmoid)\n",
    "    self.hidden_layer_2 = tf.keras.layers.Dense(units=256,\n",
    "                                          activation=tf.keras.activations.sigmoid)\n",
    "    self.output_layer = tf.keras.layers.Dense(units=10,\n",
    "                                        activation=tf.keras.activations.softmax)\n",
    "    \n",
    "  def call(self, inputs):\n",
    "    x = self.hidden_layer_1(inputs)\n",
    "    x = self.hidden_layer_2(x)\n",
    "    x = self.output_layer(x)\n",
    "    return x"
   ]
  },
  {
   "cell_type": "markdown",
   "metadata": {},
   "source": [
    "## 3. Training"
   ]
  },
  {
   "cell_type": "code",
   "execution_count": 187,
   "metadata": {
    "id": "4fcvUu6f9_kY"
   },
   "outputs": [],
   "source": [
    "def train_step(model, input, target, loss_function, optimizer):\n",
    "\n",
    "  with tf.GradientTape() as tape:\n",
    "    prediction = model(input)\n",
    "    train_loss = loss_function(target, prediction)\n",
    "    sample_training_accuracy =  np.argmax(target, axis=1) == np.argmax(prediction, axis=1)\n",
    "    sample_training_accuracy = np.mean(sample_training_accuracy)\n",
    "    gradients = tape.gradient(train_loss, model.trainable_variables)\n",
    "  optimizer.apply_gradients(zip(gradients, model.trainable_variables))\n",
    "  \n",
    "  return train_loss , sample_training_accuracy\n",
    "\n",
    "def test(model, test_data, loss_function):\n",
    "  # test over complete test data\n",
    "  test_accuracy_aggregator = []\n",
    "  test_loss_aggregator = []\n",
    "\n",
    "  for (input, target) in test_data:\n",
    "    prediction = model(input)\n",
    "    sample_test_loss = loss_function(target, prediction)\n",
    "    sample_test_accuracy =  np.argmax(target, axis=1) == np.argmax(prediction, axis=1)\n",
    "    sample_test_accuracy = np.mean(sample_test_accuracy)\n",
    "    test_loss_aggregator.append(sample_test_loss.numpy())\n",
    "    test_accuracy_aggregator.append(np.mean(sample_test_accuracy))\n",
    "\n",
    "  test_loss = np.mean(test_loss_aggregator)\n",
    "  test_accuracy = np.mean(test_accuracy_aggregator)\n",
    "\n",
    "  return test_loss, test_accuracy"
   ]
  },
  {
   "cell_type": "code",
   "execution_count": 188,
   "metadata": {
    "colab": {
     "base_uri": "https://localhost:8080/"
    },
    "id": "SA8XuwD4dHHW",
    "outputId": "1d4f68b8-b126-4138-bcfc-3902f49cda45"
   },
   "outputs": [
    {
     "name": "stdout",
     "output_type": "stream",
     "text": [
      "Epoch: 0 starting with accuracy 0.1310614224137931\n",
      "Epoch: 1 starting with accuracy 0.29263200431034486\n",
      "Epoch: 2 starting with accuracy 0.3289668642241379\n",
      "Epoch: 3 starting with accuracy 0.3292362607758621\n",
      "Epoch: 4 starting with accuracy 0.33627424568965514\n",
      "Epoch: 5 starting with accuracy 0.29855872844827586\n",
      "Epoch: 6 starting with accuracy 0.34021417025862066\n",
      "Epoch: 7 starting with accuracy 0.3569841056034483\n",
      "Epoch: 8 starting with accuracy 0.36452720905172414\n",
      "Epoch: 9 starting with accuracy 0.37631330818965514\n",
      "Execution time: 6 minutes and 6 seconds.\n"
     ]
    }
   ],
   "source": [
    "tf.keras.backend.clear_session()\n",
    "\n",
    "# Hyperparameters\n",
    "num_epochs = 10\n",
    "learning_rate = 0.1\n",
    "\n",
    "start = time.time()\n",
    "\n",
    "# Initialize the model.\n",
    "model = Model()\n",
    "# Initialize the loss: categorical cross entropy. \n",
    "cross_entropy_loss = tf.keras.losses.CategoricalCrossentropy()\n",
    "# Initialize the optimizer: SGD with default parameters. \n",
    "optimizer = tf.keras.optimizers.SGD(learning_rate)\n",
    "\n",
    "# Initialize lists for later visualization.\n",
    "train_losses = []\n",
    "train_accuracies = []\n",
    "\n",
    "test_losses = []\n",
    "test_accuracies = []\n",
    "\n",
    "# Testing once before we begin.\n",
    "test_loss, test_accuracy = test(model, test_ds, cross_entropy_loss)\n",
    "test_losses.append(test_loss)\n",
    "test_accuracies.append(test_accuracy)\n",
    "\n",
    "# Check how model performs on train data once before we begin.\n",
    "train_loss, train_accuracy = test(model, train_ds, cross_entropy_loss)\n",
    "train_losses.append(train_loss)\n",
    "train_accuracies.append(train_accuracy)\n",
    "\n",
    "# We train for num_epochs epochs.\n",
    "for epoch in range(num_epochs):\n",
    "    print(f'Epoch: {str(epoch)} starting with accuracy {test_accuracies[-1]}')\n",
    "\n",
    "    # Training (and checking in with training).\n",
    "    epoch_loss_agg = []\n",
    "    epoch_acc_agg = []\n",
    "    for input, target in train_ds:\n",
    "        train_loss, train_accuracy = train_step(model, input, target, cross_entropy_loss, optimizer)\n",
    "        epoch_loss_agg.append(train_loss)\n",
    "        epoch_acc_agg.append(train_accuracy)\n",
    "    \n",
    "    # Track training loss and accuracy.\n",
    "    train_losses.append(tf.reduce_mean(epoch_loss_agg))\n",
    "    train_accuracies.append(tf.reduce_mean(epoch_acc_agg))\n",
    "\n",
    "    # Testing\n",
    "    test_loss, test_accuracy = test(model, test_ds, cross_entropy_loss)\n",
    "    test_losses.append(test_loss)\n",
    "    test_accuracies.append(test_accuracy)\n",
    "\n",
    "end = time.time()\n",
    "execution_time = int((end - start)/60)\n",
    "\n",
    "print(f'Execution time: {execution_time} minutes and {execution_time % 60} seconds.')"
   ]
  },
  {
   "cell_type": "code",
   "execution_count": 189,
   "metadata": {
    "colab": {
     "base_uri": "https://localhost:8080/",
     "height": 298
    },
    "id": "tZEuPb9H3T-E",
    "outputId": "42c034db-78b2-4eb5-f08b-3164190df523"
   },
   "outputs": [
    {
     "data": {
      "image/png": "[encoded data removed]",
      "text/plain": [
       "<Figure size 432x288 with 1 Axes>"
      ]
     },
     "metadata": {
      "needs_background": "light"
     },
     "output_type": "display_data"
    }
   ],
   "source": [
    "# Visualize loss training and test data. \n",
    "plt.figure()\n",
    "line1, = plt.plot(train_losses, color = 'blue')\n",
    "line2, = plt.plot(test_losses, color = 'red')\n",
    "plt.xlabel(\"Training steps (epochs)\", fontsize = 12)\n",
    "plt.ylabel(\"Loss\", fontsize = 12)\n",
    "plt.legend((line1, line2),(\"training\", \"test\"))\n",
    "plt.title('Loss for training and test data')\n",
    "plt.show()"
   ]
  },
  {
   "cell_type": "code",
   "execution_count": 190,
   "metadata": {
    "colab": {
     "base_uri": "https://localhost:8080/",
     "height": 298
    },
    "id": "UmfyL0ld3T3k",
    "outputId": "ac41a99d-fdaa-4044-b4ea-93a579332612"
   },
   "outputs": [
    {
     "data": {
      "image/png": "[encoded data removed]",
      "text/plain": [
       "<Figure size 432x288 with 1 Axes>"
      ]
     },
     "metadata": {
      "needs_background": "light"
     },
     "output_type": "display_data"
    }
   ],
   "source": [
    "# Visualize accuracy for training and test data. \n",
    "plt.figure()\n",
    "line1, = plt.plot(train_accuracies, linestyle = 'dashed', color = 'orange')\n",
    "line2, = plt.plot(test_accuracies, linestyle = 'dashed', color = 'green')\n",
    "plt.xlabel(\"Training steps\", fontsize = 12)\n",
    "plt.ylabel(\"Accuracy\", fontsize = 12)\n",
    "plt.legend((line1, line2),(\"training\", \"test\"))\n",
    "plt.title('Accuracy for traing and test data')\n",
    "plt.show()"
   ]
  }
 ],
 "metadata": {
  "colab": {
   "authorship_tag": "ABX9TyNL7a3a9zvqd8odAq/amLXW",
   "collapsed_sections": [],
   "include_colab_link": true,
   "name": "IANNwTF_Homework_03.ipynb",
   "provenance": []
  },
  "kernelspec": {
   "display_name": "Python 3",
   "language": "python",
   "name": "python3"
  },
  "language_info": {
   "codemirror_mode": {
    "name": "ipython",
    "version": 3
   },
   "file_extension": ".py",
   "mimetype": "text/x-python",
   "name": "python",
   "nbconvert_exporter": "python",
   "pygments_lexer": "ipython3",
   "version": "3.8.8"
  }
 },
 "nbformat": 4,
 "nbformat_minor": 1
}
