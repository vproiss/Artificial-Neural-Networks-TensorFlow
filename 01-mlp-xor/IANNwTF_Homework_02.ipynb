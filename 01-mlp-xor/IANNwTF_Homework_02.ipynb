{
  "nbformat": 4,
  "nbformat_minor": 0,
  "metadata": {
    "colab": {
      "name": "IANNwTF_Homework_02.ipynb",
      "provenance": [],
      "collapsed_sections": [],
      "authorship_tag": "ABX9TyMAIRC4eT3unBxZDqfseD0/",
      "include_colab_link": true
    },
    "kernelspec": {
      "name": "python3",
      "display_name": "Python 3"
    },
    "language_info": {
      "name": "python"
    }
  },
  "cells": [
    {
      "cell_type": "markdown",
      "metadata": {
        "id": "view-in-github",
        "colab_type": "text"
      },
      "source": [
        "<a href=\"https://colab.research.google.com/github/LDankert/ANNs-Tensorflow/blob/verasBranch/IANNwTF_Homework_02.ipynb\" target=\"_parent\"><img src=\"https://colab.research.google.com/assets/colab-badge.svg\" alt=\"Open In Colab\"/></a>"
      ]
    },
    {
      "cell_type": "markdown",
      "metadata": {
        "id": "IRx1rwVDBncE"
      },
      "source": [
        "# **IANNwTF - Homework 02**"
      ]
    },
    {
      "cell_type": "code",
      "metadata": {
        "id": "V7oPV4i6Bq_t"
      },
      "source": [
        "%matplotlib inline\n",
        "import matplotlib.pyplot as plt\n",
        "import numpy as np"
      ],
      "execution_count": 478,
      "outputs": []
    },
    {
      "cell_type": "markdown",
      "metadata": {
        "id": "3w9REMXTTRKy"
      },
      "source": [
        "## **1. Data Set**"
      ]
    },
    {
      "cell_type": "code",
      "metadata": {
        "id": "kqAsgxCST7f3"
      },
      "source": [
        "# create a 2D array containing binary digits with all of their possible combinations \n",
        "inputs = np.array([\n",
        "                   [1,1],\n",
        "                   [1,0],\n",
        "                   [0,1],\n",
        "                   [0,0]\n",
        "                   ])"
      ],
      "execution_count": 479,
      "outputs": []
    },
    {
      "cell_type": "code",
      "metadata": {
        "id": "MLhkYFzYVPXr"
      },
      "source": [
        "# create an array of labels per each logical gate\n",
        "labels_and = np.array([0,0,0,1])\n",
        "labels_or = np.array([0,1,1,1])\n",
        "labels_nand = np.array([1,1,1,0])\n",
        "labels_nor = np.array([1,0,0,0])\n",
        "labels_xor = np.array([1,0,0,1])"
      ],
      "execution_count": 480,
      "outputs": []
    },
    {
      "cell_type": "markdown",
      "metadata": {
        "id": "dJzYgMwSfB_F"
      },
      "source": [
        "## **2. Perceptron**"
      ]
    },
    {
      "cell_type": "code",
      "metadata": {
        "id": "UDxJSVQSTsRf"
      },
      "source": [
        "class Perceptron():\n",
        "\n",
        "  def __init__(self, input_units, alpha=1):\n",
        "    \"\"\"Initialize weights, input_units - number of weights incoming to a Perceptron, and a learning rate.\"\"\"\n",
        "    self.alpha = alpha\n",
        "    self.sigmoid = self._sigmoid_func\n",
        "    self.weights = np.random.randn(input_units) \n",
        "    self.bias = np.random.randn()\n",
        "\n",
        "  def _forward_step(self, inputs):\n",
        "    \"\"\"Calculate the activation of a Perceptron.\"\"\"\n",
        "    self.input = inputs\n",
        "\n",
        "    self.net_input = np.dot(self.input, self.weights) + self.bias \n",
        "    self.activation = self.sigmoid(self.net_input) \n",
        "    return self.activation \n",
        "\n",
        "  def update(self, delta):\n",
        "    \"\"\"Update the parameters of a Perceptron, i.e. the weights and the bias.\"\"\"\n",
        "    gradients = delta * self.activation \n",
        "    self.weights = self.weights - self.alpha * gradients\n",
        "\n",
        "  def _sigmoid_func(self, x):\n",
        "    \"\"\"Define a sigmoid function.\"\"\"\n",
        "    return (1 / (1 + np.exp(-x)))"
      ],
      "execution_count": 481,
      "outputs": []
    },
    {
      "cell_type": "markdown",
      "metadata": {
        "id": "Xvm70bG0m_2q"
      },
      "source": [
        "## **3. MLP**"
      ]
    },
    {
      "cell_type": "code",
      "metadata": {
        "id": "8Rt8DiTqiG8B"
      },
      "source": [
        "class MLP(Perceptron):\n",
        "  \"\"\"Initialize the number Perceptrons in hidden and output layers.\"\"\"\n",
        "  def __init__(self, hidden_layer, output_layer):\n",
        "    self.hidden_layer = [Perceptron(2) for i in range(4)]\n",
        "    self.output_layer = Perceptron(4)\n",
        "    self.sigmoid_prime = self._sigmoid_prime\n",
        "\n",
        "  def forward_step(self, inputs):\n",
        "    \"\"\"Pass the inputs forwards through the network.\"\"\"\n",
        "    self.hidden_output = []\n",
        "\n",
        "    for perceptron in self.hidden_layer:\n",
        "      self.hidden_output.append(perceptron._forward_step(inputs))\n",
        "\n",
        "    return self.output_layer._forward_step(self.hidden_output)\n",
        "  \n",
        "  def backprop_step(self, inputs, target):\n",
        "    \"\"\"Update the parameters of the network.\"\"\"\n",
        "    readout_delta = (self.output_layer.activation-target) * self.sigmoid_prime(self.output_layer.net_input)\n",
        "\n",
        "    for idx, perceptron in enumerate(self.hidden_layer):\n",
        "      delta = readout_delta * self.output_layer.weights[idx] * self.sigmoid_prime(perceptron.net_input)\n",
        "      perceptron.update(delta)\n",
        "\n",
        "    self.output_layer.update(readout_delta)\n",
        "\n",
        "  def _sigmoid_prime(self, x):\n",
        "    \"\"\"Define a derivative of a sigmoid function. \"\"\"\n",
        "    return _sigmoid_func(x)*(1-_sigmoid_func(x))"
      ],
      "execution_count": 482,
      "outputs": []
    },
    {
      "cell_type": "markdown",
      "metadata": {
        "id": "sne5aIyEUC1i"
      },
      "source": [
        "## **4. Training**"
      ]
    },
    {
      "cell_type": "code",
      "metadata": {
        "colab": {
          "base_uri": "https://localhost:8080/",
          "height": 1000
        },
        "id": "JBmeUMxSRn0y",
        "outputId": "3fb1afda-031d-4c88-f162-9511976313da"
      },
      "source": [
        "def train_and_evaluate(labels, title):\n",
        "  mlp = MLP(1,1)\n",
        "\n",
        "  labels = labels.reshape((4, 1))\n",
        "  epochs = 1000\n",
        "\n",
        "  all_losses = []\n",
        "  all_accs = []\n",
        "\n",
        "  for epoch in range(epochs):\n",
        "    losses = 0\n",
        "    correct = 0 # number of correct predictions in this epoch\n",
        "\n",
        "    # Iterate through the training samples\n",
        "    for x1, x2, target in np.concatenate((inputs, labels), axis=1):\n",
        "      prediction = mlp.forward_step([x1, x2])\n",
        "      mlp.backprop_step([x1, x2], target)\n",
        "\n",
        "      # Measure the average of error squares with an MSE - Mean Squared Error\n",
        "      loss = (prediction-target)**2\n",
        "      losses += loss\n",
        "\n",
        "      if round(prediction) == target:\n",
        "        correct += 1\n",
        "\n",
        "    # Accuracy = number of correct predictions / total number of samples\n",
        "    accuracy = correct / len(inputs)\n",
        "\n",
        "    # Average the loss as well\n",
        "    loss = losses / len(inputs)\n",
        "\n",
        "    # Store losses and accuracies for the plot\n",
        "    all_losses.append(loss)\n",
        "    all_accs.append(accuracy)\n",
        "\n",
        "  # Create and show the plot\n",
        "  x = range(1000)\n",
        "  plt.plot(x, all_accs, label=\"Accuracy\")\n",
        "  plt.plot(x, all_losses, label=\"Loss\")\n",
        "  plt.title(title)\n",
        "  plt.legend()\n",
        "  plt.show()\n",
        "\n",
        "# Train, evaluate and plot for every logical gate\n",
        "train_and_evaluate(labels_and, \"AND\")\n",
        "train_and_evaluate(labels_or, \"OR\")\n",
        "train_and_evaluate(labels_nand, \"NAND\")\n",
        "train_and_evaluate(labels_nor, \"NOR\")\n",
        "train_and_evaluate(labels_xor, \"XOR\")"
      ],
      "execution_count": 483,
      "outputs": [
        {
          "output_type": "display_data",
          "data": {
            "image/png": "[encoded data removed]",
            "text/plain": [
              "<Figure size 432x288 with 1 Axes>"
            ]
          },
          "metadata": {
            "needs_background": "light"
          }
        },
        {
          "output_type": "display_data",
          "data": {
            "image/png": "[encoded data removed]",
            "text/plain": [
              "<Figure size 432x288 with 1 Axes>"
            ]
          },
          "metadata": {
            "needs_background": "light"
          }
        },
        {
          "output_type": "display_data",
          "data": {
            "image/png": "[encoded data removed]",
            "text/plain": [
              "<Figure size 432x288 with 1 Axes>"
            ]
          },
          "metadata": {
            "needs_background": "light"
          }
        },
        {
          "output_type": "display_data",
          "data": {
            "image/png": "[encoded data removed]",
            "text/plain": [
              "<Figure size 432x288 with 1 Axes>"
            ]
          },
          "metadata": {
            "needs_background": "light"
          }
        },
        {
          "output_type": "display_data",
          "data": {
            "image/png": "[encoded data removed]",
            "text/plain": [
              "<Figure size 432x288 with 1 Axes>"
            ]
          },
          "metadata": {
            "needs_background": "light"
          }
        }
      ]
    }
  ]
}